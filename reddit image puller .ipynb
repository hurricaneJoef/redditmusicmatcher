{
 "cells": [
  {
   "cell_type": "code",
   "execution_count": 16,
   "metadata": {},
   "outputs": [
    {
     "name": "stdout",
     "output_type": "stream",
     "text": [
      "Please enter subreddit url in the form of \"https://www.reddit.com/r/sub\": https://www.reddit.com/r/memes/hot\n",
      "How many images would you like to download: 100\n",
      "27\n"
     ]
    },
    {
     "ename": "PermissionError",
     "evalue": "[Errno 13] Permission denied: 'reddit_images/memes'",
     "output_type": "error",
     "traceback": [
      "\u001b[1;31m---------------------------------------------------------------------------\u001b[0m",
      "\u001b[1;31mPermissionError\u001b[0m                           Traceback (most recent call last)",
      "\u001b[1;32m<ipython-input-16-a40376c3422a>\u001b[0m in \u001b[0;36m<module>\u001b[1;34m\u001b[0m\n\u001b[0;32m     54\u001b[0m                 \u001b[1;32mbreak\u001b[0m\u001b[1;33m\u001b[0m\u001b[1;33m\u001b[0m\u001b[0m\n\u001b[0;32m     55\u001b[0m \u001b[1;33m\u001b[0m\u001b[0m\n\u001b[1;32m---> 56\u001b[1;33m \u001b[0mrun\u001b[0m\u001b[1;33m(\u001b[0m\u001b[1;33m)\u001b[0m\u001b[1;33m\u001b[0m\u001b[1;33m\u001b[0m\u001b[0m\n\u001b[0m",
      "\u001b[1;32m<ipython-input-16-a40376c3422a>\u001b[0m in \u001b[0;36mrun\u001b[1;34m()\u001b[0m\n\u001b[0;32m     50\u001b[0m             \u001b[0m_imageUrls\u001b[0m \u001b[1;33m=\u001b[0m \u001b[1;33m[\u001b[0m\u001b[1;33m]\u001b[0m\u001b[1;33m\u001b[0m\u001b[1;33m\u001b[0m\u001b[0m\n\u001b[0;32m     51\u001b[0m             \u001b[0m_imageUrls\u001b[0m\u001b[1;33m.\u001b[0m\u001b[0mappend\u001b[0m\u001b[1;33m(\u001b[0m\u001b[0mimageUrl\u001b[0m\u001b[1;33m)\u001b[0m\u001b[1;33m\u001b[0m\u001b[1;33m\u001b[0m\u001b[0m\n\u001b[1;32m---> 52\u001b[1;33m             \u001b[0mx\u001b[0m \u001b[1;33m=\u001b[0m \u001b[0mdownloadImage\u001b[0m\u001b[1;33m(\u001b[0m\u001b[0m_imageUrls\u001b[0m\u001b[1;33m[\u001b[0m\u001b[1;36m0\u001b[0m\u001b[1;33m]\u001b[0m\u001b[1;33m,\u001b[0m \u001b[0mx\u001b[0m\u001b[1;33m)\u001b[0m\u001b[1;33m\u001b[0m\u001b[1;33m\u001b[0m\u001b[0m\n\u001b[0m\u001b[0;32m     53\u001b[0m             \u001b[1;32mif\u001b[0m \u001b[0mx\u001b[0m \u001b[1;33m==\u001b[0m \u001b[0mlimit\u001b[0m\u001b[1;33m:\u001b[0m\u001b[1;33m\u001b[0m\u001b[1;33m\u001b[0m\u001b[0m\n\u001b[0;32m     54\u001b[0m                 \u001b[1;32mbreak\u001b[0m\u001b[1;33m\u001b[0m\u001b[1;33m\u001b[0m\u001b[0m\n",
      "\u001b[1;32m<ipython-input-16-a40376c3422a>\u001b[0m in \u001b[0;36mdownloadImage\u001b[1;34m(imageUrl, imageAmount)\u001b[0m\n\u001b[0;32m     23\u001b[0m         \u001b[1;32mif\u001b[0m \u001b[0mfilename\u001b[0m\u001b[1;33m:\u001b[0m\u001b[1;33m\u001b[0m\u001b[1;33m\u001b[0m\u001b[0m\n\u001b[0;32m     24\u001b[0m             \u001b[0mr\u001b[0m \u001b[1;33m=\u001b[0m \u001b[0mrequests\u001b[0m\u001b[1;33m.\u001b[0m\u001b[0mget\u001b[0m\u001b[1;33m(\u001b[0m\u001b[0mimageUrl\u001b[0m\u001b[1;33m,\u001b[0m \u001b[0mstream\u001b[0m\u001b[1;33m=\u001b[0m\u001b[1;32mTrue\u001b[0m\u001b[1;33m)\u001b[0m  \u001b[1;31m# Downloads image\u001b[0m\u001b[1;33m\u001b[0m\u001b[1;33m\u001b[0m\u001b[0m\n\u001b[1;32m---> 25\u001b[1;33m             \u001b[1;32mwith\u001b[0m \u001b[0mopen\u001b[0m\u001b[1;33m(\u001b[0m\u001b[0mfilename\u001b[0m\u001b[1;33m,\u001b[0m \u001b[1;34m'wb'\u001b[0m\u001b[1;33m)\u001b[0m \u001b[1;32mas\u001b[0m \u001b[0mf\u001b[0m\u001b[1;33m:\u001b[0m\u001b[1;33m\u001b[0m\u001b[1;33m\u001b[0m\u001b[0m\n\u001b[0m\u001b[0;32m     26\u001b[0m                 \u001b[0mshutil\u001b[0m\u001b[1;33m.\u001b[0m\u001b[0mcopyfileobj\u001b[0m\u001b[1;33m(\u001b[0m\u001b[0mr\u001b[0m\u001b[1;33m.\u001b[0m\u001b[0mraw\u001b[0m\u001b[1;33m,\u001b[0m \u001b[0mf\u001b[0m\u001b[1;33m)\u001b[0m\u001b[1;33m\u001b[0m\u001b[1;33m\u001b[0m\u001b[0m\n\u001b[0;32m     27\u001b[0m                 \u001b[0mprint\u001b[0m\u001b[1;33m(\u001b[0m\u001b[1;34m\"Successfully downloaded: \"\u001b[0m \u001b[1;33m+\u001b[0m \u001b[0mimageUrl\u001b[0m\u001b[1;33m)\u001b[0m\u001b[1;33m\u001b[0m\u001b[1;33m\u001b[0m\u001b[0m\n",
      "\u001b[1;31mPermissionError\u001b[0m: [Errno 13] Permission denied: 'reddit_images/memes'"
     ]
    }
   ],
   "source": [
    "import shutil\n",
    "from sys import exit\n",
    "try:\n",
    "    import requests\n",
    "except ImportError:\n",
    "    print('Requests must be installed. PLease run: pip install requests')\n",
    "    exit()\n",
    "    \n",
    "\n",
    "def makeUrl(afterID, subreddit):\n",
    "        newUrl = subreddit.split('/.json')[0] + \"/.json?after={}\".format(afterID)\n",
    "        return newUrl\n",
    "    \n",
    "\n",
    "def splitUrl(imageUrl):\n",
    "        if 'jpg' or 'webm' or 'mp4' or 'gif' or 'gifv' or 'png' in imageUrl:\n",
    "            return imageUrl.split('/')[-1]  # Returns filename\n",
    "\n",
    "\n",
    "def downloadImage(imageUrl, imageAmount):  # Function to download the images from\n",
    "                                # each url passed to it\n",
    "        filename = \"reddit_images/memes\"+splitUrl(imageUrl)\n",
    "        if filename:\n",
    "            r = requests.get(imageUrl, stream=True)  # Downloads image\n",
    "            with open(filename, 'wb') as f:\n",
    "                shutil.copyfileobj(r.raw, f)\n",
    "                print(\"Successfully downloaded: \" + imageUrl)\n",
    "                imageAmount += 1\n",
    "        return imageAmount\n",
    "\n",
    "\n",
    "def run():\n",
    "    subreddit = input(\"Please enter subreddit url in the form of \\\"https://www.reddit.com/r/sub\\\": \")\n",
    "    limit = int(input(\"How many images would you like to download: \"))\n",
    "    subJson = ''\n",
    "    x = 0\n",
    "    while x < limit:\n",
    "        if subJson:\n",
    "            url = makeUrl(subJson['data']['after'], subreddit)\n",
    "        else:\n",
    "            url = makeUrl('', subreddit)\n",
    "        subJson = requests.get(url, headers={'User-Agent': 'MyRedditScraper'}).json()\n",
    "        post = subJson['data']['children']\n",
    "        postCount = range(len(post))\n",
    "        print(len(post))\n",
    "        # Sets postCount equal to the number of posts\n",
    "\n",
    "        for i in postCount:  # Iterates over the number of posts received the sub\n",
    "            imageUrl = (post[i]['data']['url'])\n",
    "            _imageUrls = []\n",
    "            _imageUrls.append(imageUrl)\n",
    "            x = downloadImage(_imageUrls[0], x)\n",
    "            if x == limit:\n",
    "                break\n",
    "\n",
    "run()"
   ]
  },
  {
   "cell_type": "code",
   "execution_count": 14,
   "metadata": {},
   "outputs": [
    {
     "name": "stdout",
     "output_type": "stream",
     "text": [
      "Requirement already satisfied: cpython in c:\\users\\hurri\\anaconda3\\lib\\site-packages (0.0.5)\n",
      "Requirement already satisfied: pymongo in c:\\users\\hurri\\anaconda3\\lib\\site-packages (from cpython) (3.10.1)\n",
      "Requirement already satisfied: requests in c:\\users\\hurri\\anaconda3\\lib\\site-packages (from cpython) (2.22.0)\n",
      "Requirement already satisfied: urllib3!=1.25.0,!=1.25.1,<1.26,>=1.21.1 in c:\\users\\hurri\\anaconda3\\lib\\site-packages (from requests->cpython) (1.24.2)\n",
      "Requirement already satisfied: chardet<3.1.0,>=3.0.2 in c:\\users\\hurri\\anaconda3\\lib\\site-packages (from requests->cpython) (3.0.4)\n",
      "Requirement already satisfied: certifi>=2017.4.17 in c:\\users\\hurri\\anaconda3\\lib\\site-packages (from requests->cpython) (2019.9.11)\n",
      "Requirement already satisfied: idna<2.9,>=2.5 in c:\\users\\hurri\\anaconda3\\lib\\site-packages (from requests->cpython) (2.8)\n",
      "Note: you may need to restart the kernel to use updated packages.\n"
     ]
    }
   ],
   "source": [
    "pip install cpython"
   ]
  },
  {
   "cell_type": "code",
   "execution_count": 6,
   "metadata": {},
   "outputs": [
    {
     "name": "stdout",
     "output_type": "stream",
     "text": [
      "Collecting tkfilebrowser\n",
      "  Downloading https://files.pythonhosted.org/packages/6f/9a/010f765cd212f9ca39352b668681851023e73d6882736c5d7004aca5371d/tkfilebrowser-2.3.2-py3-none-any.whl (57kB)\n",
      "Requirement already satisfied: psutil in c:\\users\\hurri\\anaconda3\\lib\\site-packages (from tkfilebrowser) (5.6.3)\n",
      "Requirement already satisfied: babel in c:\\users\\hurri\\anaconda3\\lib\\site-packages (from tkfilebrowser) (2.7.0)\n",
      "Requirement already satisfied: pytz>=2015.7 in c:\\users\\hurri\\anaconda3\\lib\\site-packages (from babel->tkfilebrowser) (2019.3)\n",
      "Installing collected packages: tkfilebrowser\n",
      "Successfully installed tkfilebrowser-2.3.2\n",
      "Note: you may need to restart the kernel to use updated packages.\n"
     ]
    }
   ],
   "source": [
    "pip install tkfilebrowser\n"
   ]
  },
  {
   "cell_type": "code",
   "execution_count": 1,
   "metadata": {},
   "outputs": [
    {
     "name": "stdout",
     "output_type": "stream",
     "text": [
      "C:/Users/hurri/Documents/python/song.mp3\n"
     ]
    }
   ],
   "source": [
    "from tkinter import filedialog\n",
    "from tkinter import *\n",
    "\n",
    "root = Tk()\n",
    "root.withdraw()\n",
    "root.filename =  filedialog.askopenfilename(initialdir = \".\",title = \"Select file\",filetypes = ((\"mp3 files\",\"*.mp3\"),(\"all files\",\"*.*\")))\n",
    "print (root.filename)\n",
    "root.destroy()"
   ]
  },
  {
   "cell_type": "code",
   "execution_count": null,
   "metadata": {},
   "outputs": [],
   "source": []
  }
 ],
 "metadata": {
  "kernelspec": {
   "display_name": "Python 3",
   "language": "python",
   "name": "python3"
  },
  "language_info": {
   "codemirror_mode": {
    "name": "ipython",
    "version": 3
   },
   "file_extension": ".py",
   "mimetype": "text/x-python",
   "name": "python",
   "nbconvert_exporter": "python",
   "pygments_lexer": "ipython3",
   "version": "3.7.4"
  }
 },
 "nbformat": 4,
 "nbformat_minor": 2
}
