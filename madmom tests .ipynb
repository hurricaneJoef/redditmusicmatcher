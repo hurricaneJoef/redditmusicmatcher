{
 "cells": [
  {
   "cell_type": "code",
   "execution_count": 16,
   "metadata": {},
   "outputs": [
    {
     "name": "stdout",
     "output_type": "stream",
     "text": [
      "<madmom.features.beats.RNNBeatProcessor object at 0x000001699A3DE288>\n",
      "[ 273  274  285  286  412  443  454  455  475  485  495  506  516  526\n",
      "  527  537  547  578  589  599  609  610  630  651  671  672  682  692\n",
      "  713  733  754  755  785  796  816  837  847  857  868  878  898  899\n",
      "  909  919  920  939  940  950  961  981  992 1002 1022 1023 1033 1043\n",
      " 1064 1065 1095 1105 1126 1136 1146 1166 1167 1187 1198 1208 1209 1228\n",
      " 1229 1249 1270 1280 1290 1291 1321 1331 1352 1362 1372 1373 1383 1393\n",
      " 1404 1414 1434 1435 1455 1456 1476 1487 1496 1497 1507 1517 1518 1538\n",
      " 1558 1559 1569 1579 1599 1600 1641 1682 1723 1764 1805 1806 1846 1866\n",
      " 1867 1887 1888 1928 1929 1968 1969 1979 2009 2010 2049 2050 2091 2131\n",
      " 2132 2142 2172 2173 2193 2213 2214 2254 2255 2275 2295 2296 2306 2315\n",
      " 2316 2334 2335 2345 2355 2375 2395 2396 2406 2407 2416 2426 2436 2456\n",
      " 2457 2477 2478 2497 2528 2537 2538 2548 2558 2568 2578 2579 2598 2599\n",
      " 2609 2618 2619 2629 2639 2659 2680 2699 2700 2710 2719 2720 2730 2740\n",
      " 2760 2761 2780 2781 2800 2801 2811 2821 2831 2841 2842 2862 2872 2882\n",
      " 2902 2922 2923 2933 2943 2953 2963 2964 2983 2984 3003 3004 3024 3025\n",
      " 3044 3045 3064 3065 3085 3086 3095 3104 3105 3125 3145 3146 3196 3206\n",
      " 3207 3226 3247 3257 3267 3268 3277 3287 3297 3359 3389 3429 3470 3510\n",
      " 3511 3521 3551 3572 3592 3632 3633 3634 3672 3673 3674 3683 3713 3723\n",
      " 3724 3753 3764 3765 3794 3795 3834 3835 3845 3846 3876 3906 3907 3916\n",
      " 3967 3968 3997 4027 4077 4078 4127 4158 4159 4217 4218 4277 4278 4307\n",
      " 4308 4318 4327 4328 4347 4357 4367 4397 4408 4428 4438 4448 4458 4478\n",
      " 4499 4519 4539 4549 4559 4569 4579 4589 4599 4619 4639 4640 4650 4659\n",
      " 4660 4679 4700 4719 4720 4730 4740 4750 4760 4780 4781 4800 4801 4810\n",
      " 4820 4830 4840 4841 4851 4861 4871 4881 4882 4901 4902 4921 4922 4932\n",
      " 4941 4942 4962 4963 4982 4983 5002 5003 5022 5023 5033 5043 5063 5064\n",
      " 5083 5084 5094 5103 5104 5124 5144 5145 5164 5165 5184 5185 5204 5205\n",
      " 5215 5225 5226 5235 5244 5245 5255 5265 5266 5285 5286 5305 5306 5315\n",
      " 5325 5326 5406 5446 5447 5456 5457 5487 5527 5537 5538 5568 5587 5599\n",
      " 5609 5649 5660 5699 5760 5810 5820 5850 5851 5890 5920 5931 5970 6040\n",
      " 6049 6050 6099 6108 6126 6167 6186 6187 6205 6245 6265 6303 6341 6342\n",
      " 6352 6362 6372 6382 6411 6420 6421 6431 6450 6479 6489 6490 6499 6509\n",
      " 6518 6519 6560 6581 6601 6602 6603 6646 6647 6843 6844 6845 6859 6887\n",
      " 6915 6916 6943 6944 6972 7000 7028 7056 7057 7084 7112 7113 7139 7140\n",
      " 7167 7168 7169 7196 7197 7224 7225 7226 7253 7281 7282 7309 7336 7337\n",
      " 7338 7364 7365 7392 7393 7420 7421 7448 7449 7476 7477 7504 7505 7532\n",
      " 7533 7534 7547 7560 7561 7589 7590 7620 7621 7655 7656]\n",
      "501\n"
     ]
    }
   ],
   "source": [
    "from madmom.models import BEATS_LSTM\n",
    "import madmom\n",
    "import numpy as np\n",
    "threshold=.3\n",
    "fps=30\n",
    "proc = madmom.features.beats.RNNBeatProcessor(online=True, nn_files=[BEATS_LSTM[0]],fps=fps)\n",
    "print(proc)  # doctest: +ELLIPSIS\n",
    "songdata=proc('song.mp3')\n",
    "beats=np.where(songdata>=threshold)\n",
    "print(beats[0])\n",
    "print(len(beats[0]))"
   ]
  },
  {
   "cell_type": "code",
   "execution_count": 5,
   "metadata": {},
   "outputs": [
    {
     "name": "stdout",
     "output_type": "stream",
     "text": [
      "Requirement already up-to-date: madmom in c:\\users\\hurri\\anaconda3\\lib\\site-packages (0.16.1)\n",
      "Requirement already satisfied, skipping upgrade: scipy>=0.16 in c:\\users\\hurri\\anaconda3\\lib\\site-packages (from madmom) (1.3.1)\n",
      "Requirement already satisfied, skipping upgrade: cython>=0.25 in c:\\users\\hurri\\anaconda3\\lib\\site-packages (from madmom) (0.29.13)\n",
      "Requirement already satisfied, skipping upgrade: mido>=1.2.8 in c:\\users\\hurri\\anaconda3\\lib\\site-packages (from madmom) (1.2.9)\n",
      "Requirement already satisfied, skipping upgrade: numpy>=1.13.4 in c:\\users\\hurri\\anaconda3\\lib\\site-packages (from madmom) (1.18.4)\n",
      "Note: you may need to restart the kernel to use updated packages.\n"
     ]
    }
   ],
   "source": [
    "pip install --upgrade madmom"
   ]
  },
  {
   "cell_type": "code",
   "execution_count": null,
   "metadata": {},
   "outputs": [],
   "source": [
    "def beats(song):\n",
    "    global threshold\n",
    "    global fps\n",
    "    proc = madmom.features.beats.RNNBeatProcessor(online=True, nn_files=[BEATS_LSTM[0]],fps=fps)\n",
    "    #print(proc)  # doctest: +ELLIPSIS\n",
    "    songdata=proc(song)\n",
    "    beats=np.where(songdata>=threshold)\n",
    "    #print(beats[0])\n",
    "    #print(len(beats[0]))\n",
    "    return(beats[0])"
   ]
  }
 ],
 "metadata": {
  "kernelspec": {
   "display_name": "Python 3",
   "language": "python",
   "name": "python3"
  },
  "language_info": {
   "codemirror_mode": {
    "name": "ipython",
    "version": 3
   },
   "file_extension": ".py",
   "mimetype": "text/x-python",
   "name": "python",
   "nbconvert_exporter": "python",
   "pygments_lexer": "ipython3",
   "version": "3.7.4"
  }
 },
 "nbformat": 4,
 "nbformat_minor": 2
}
